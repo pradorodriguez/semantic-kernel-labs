{
 "cells": [
  {
   "cell_type": "markdown",
   "id": "36672239",
   "metadata": {},
   "source": [
    "# Concurrent Orchestration\n",
    "\n",
    "The concurrent pattern enables multiple agents to work on the same task in parallel. Each agent processes the input independently, and their results are collected and aggregated. This approach is well-suited for scenarios where diverse perspectives or solutions are valuable, such as brainstorming, ensemble reasoning, or voting systems.\n",
    "\n",
    "* [Agent-orchestration - Concurrent](https://learn.microsoft.com/en-us/semantic-kernel/frameworks/agent/agent-orchestration/concurrent?pivots=programming-language-python)"
   ]
  },
  {
   "cell_type": "markdown",
   "id": "d10021d0",
   "metadata": {},
   "source": [
    "The following sample demonstrates how to create a concurrent orchestration for executing multiple agents on the same task in parallel.\n",
    "\n",
    "This sample demonstrates the basic steps of creating and starting a runtime, creating a concurrent orchestration with multiple agents, invoking the orchestration, and finally waiting for the results."
   ]
  },
  {
   "cell_type": "code",
   "execution_count": 1,
   "id": "cbc34969",
   "metadata": {},
   "outputs": [],
   "source": [
    "#Libraries\n",
    "\n",
    "from dotenv import load_dotenv\n",
    "import os\n",
    "import asyncio\n",
    "\n",
    "from semantic_kernel.agents import Agent, ChatCompletionAgent, ConcurrentOrchestration\n",
    "from semantic_kernel.agents.runtime import InProcessRuntime\n",
    "from semantic_kernel.connectors.ai.open_ai import AzureChatCompletion"
   ]
  },
  {
   "cell_type": "code",
   "execution_count": 2,
   "id": "40029b04",
   "metadata": {},
   "outputs": [],
   "source": [
    "#load variables\n",
    "load_dotenv()\n",
    "\n",
    "# Variables - Azure Services\n",
    "azopenai_ep=os.environ[\"AZURE_OPENAI_ACCOUNT\"]\n",
    "azopenai_key=os.environ[\"AZURE_OPENAI_KEY\"]\n",
    "azopenai_model=os.environ[\"AZURE_OPENAI_MODEL\"]\n",
    "azopenai_api_ver=os.environ[\"AZURE_OPENAI_API_VERSION\"]"
   ]
  },
  {
   "cell_type": "markdown",
   "id": "b2dcae46",
   "metadata": {},
   "source": [
    "### Create AzureChatCommpletion Class"
   ]
  },
  {
   "cell_type": "code",
   "execution_count": 3,
   "id": "5c6fd533",
   "metadata": {},
   "outputs": [],
   "source": [
    "chat_physics_agent = AzureChatCompletion(\n",
    "    deployment_name=azopenai_model,\n",
    "    api_key=azopenai_key,\n",
    "    endpoint=azopenai_ep,\n",
    "    service_id=\"physics_agent\"\n",
    ")\n",
    "\n",
    "chat_chemistry_agent = AzureChatCompletion(\n",
    "    deployment_name=azopenai_model,\n",
    "    api_key=azopenai_key,\n",
    "    endpoint=azopenai_ep,\n",
    "    service_id=\"chemistry_agent\"\n",
    ")"
   ]
  },
  {
   "cell_type": "markdown",
   "id": "1b087672",
   "metadata": {},
   "source": [
    "### Create the agents"
   ]
  },
  {
   "cell_type": "code",
   "execution_count": 4,
   "id": "312ec20d",
   "metadata": {},
   "outputs": [],
   "source": [
    "def get_agents() -> list[Agent]:\n",
    "    \"\"\"Return a list of agents that will participate in the concurrent orchestration.\n",
    "\n",
    "    Feel free to add or remove agents.\n",
    "    \"\"\"\n",
    "    physics_agent = ChatCompletionAgent(\n",
    "        name=\"PhysicsExpert\",\n",
    "        instructions=\"You are an expert in physics. You answer questions from a physics perspective.\",\n",
    "        service=chat_physics_agent\n",
    "    )\n",
    "    chemistry_agent = ChatCompletionAgent(\n",
    "        name=\"ChemistryExpert\",\n",
    "        instructions=\"You are an expert in chemistry. You answer questions from a chemistry perspective.\",\n",
    "        service=chat_chemistry_agent\n",
    "    )\n",
    "\n",
    "    return [physics_agent, chemistry_agent]"
   ]
  },
  {
   "cell_type": "markdown",
   "id": "daa02e66",
   "metadata": {},
   "source": [
    "### Create main logic"
   ]
  },
  {
   "cell_type": "code",
   "execution_count": 8,
   "id": "c5e8fb37",
   "metadata": {},
   "outputs": [],
   "source": [
    "# 1. Create a concurrent orchestration with multiple agents\n",
    "agents = get_agents()\n",
    "concurrent_orchestration = ConcurrentOrchestration(members=agents)\n",
    "\n",
    "# 2. Create a runtime and start it\n",
    "runtime = InProcessRuntime()\n",
    "runtime.start()\n",
    "\n",
    "# 3. Invoke the orchestration with a task and the runtime\n",
    "orchestration_result = await concurrent_orchestration.invoke(\n",
    "    task=\"What is temperature?\",\n",
    "    runtime=runtime\n",
    ")"
   ]
  },
  {
   "cell_type": "code",
   "execution_count": null,
   "id": "dfdb52ff",
   "metadata": {},
   "outputs": [
    {
     "name": "stdout",
     "output_type": "stream",
     "text": [
      "# ChemistryExpert: In chemistry, *temperature* is a fundamental physical property that measures the average kinetic energy of the particles—atoms, molecules, or ions—in a system. It essentially indicates how hot or cold a substance is and reflects the energy associated with the random motion of its particles.\n",
      "\n",
      "### Key points:\n",
      "1. **Kinetic Energy and Particle Motion**:\n",
      "   - At the microscopic level, particles in any material are in constant motion (vibrational, rotational, or translational, depending on the state of matter). The temperature of a substance is directly proportional to the average kinetic energy of these particles.\n",
      "   - Higher temperature means particles are moving faster, while lower temperature corresponds to slower motion.\n",
      "\n",
      "2. **Temperature Scales**:\n",
      "   - **Kelvin (K)**: The absolute temperature scale often used in scientific contexts, especially in chemistry, because it starts at absolute zero (theoretically the point where all molecular motion ceases).\n",
      "   - **Celsius (°C)**: A more common scale in everyday use, where water freezes at 0 °C and boils at 100 °C (at standard atmospheric pressure).\n",
      "   - **Fahrenheit (°F)**: Used in some countries, where water freezes at 32 °F and boils at 212 °F.\n",
      "\n",
      "3. **Temperature and Chemistry**:\n",
      "   - Temperature plays a crucial role in chemical reactions. It affects reaction rates, equilibria, and the physical properties of substances (such as phase changes like melting, boiling, and sublimation).\n",
      "   - Increasing temperature generally increases the rate of chemical reactions because more particles have sufficient energy to overcome the activation energy barrier.\n",
      "\n",
      "4. **Absolute Zero**:\n",
      "   - Absolute zero (0 Kelvin or -273.15 °C) is the temperature at which all classical motion of particles theoretically stops. However, due to quantum effects, zero-point energy may still exist.\n",
      "\n",
      "In summary, temperature is a measure of the \"thermal energy\" in a system and is central to understanding energy transfer, phase changes, and chemical reaction kinetics in chemistry.\n",
      " ***********************\n",
      "\n",
      "# PhysicsExpert: Temperature is a physical quantity that measures the average kinetic energy of the particles in a substance or system. It reflects how energetic or \"motion-filled\" the particles (atoms, molecules, or ions) are on a microscopic scale due to thermal energy. \n",
      "\n",
      "From a **thermodynamics perspective**, temperature is a measure of the state of a system in thermal equilibrium and determines the direction of heat flow between two systems when they are brought into contact. Heat always flows spontaneously from a region of higher temperature to a region of lower temperature until thermal equilibrium is reached.\n",
      "\n",
      "From a **statistical mechanics perspective**, temperature is linked to the microscopic behavior of particles. For example, in an ideal gas, the temperature \\( T \\) is directly proportional to the average kinetic energy, \\( \\langle KE \\rangle \\), of the gas particles:\n",
      "\n",
      "\\[\n",
      "\\langle KE \\rangle = \\frac{3}{2} k_B T\n",
      "\\]\n",
      "\n",
      "where \\( k_B \\) is the Boltzmann constant.\n",
      "\n",
      "**Key aspects of temperature:**\n",
      "1. **Scales:** Temperature is measured in various units, including:\n",
      "   - Kelvin (\\( K \\)): The SI base unit of temperature, starting at absolute zero (\\( 0 \\, K \\)), the theoretical point where all particle motion ceases.\n",
      "   - Celsius (\\( ^\\circ C \\)): A practical scale, where \\( 0^\\circ C \\) is the freezing point of water and \\( 100^\\circ C \\) is the boiling point of water at standard atmospheric pressure.\n",
      "   - Fahrenheit (\\( ^\\circ F \\)): A non-SI scale commonly used in the United States.\n",
      "   - The relationship between Kelvin and Celsius is \\( T(K) = T(^\\circ C) + 273.15 \\).\n",
      "\n",
      "2. **Absolute Zero:** The lowest possible temperature, \\( 0 \\, K \\), is the point at which particles have minimum possible energy (but not zero energy, due to quantum mechanical effects).\n",
      "\n",
      "3. **Thermometers:** Devices such as liquid-in-glass thermometers, resistance thermometers, and thermocouples measure temperature based on physical properties like expansion, electrical resistance, or voltage that change with temperature.\n",
      "\n",
      "In short, temperature is a fundamental concept in physics that quantifies the thermal state of matter and helps describe how energy transfers and transforms in systems.\n",
      " ***********************\n",
      "\n"
     ]
    }
   ],
   "source": [
    "# 4. Wait for the results\n",
    "# Note: the order of the results is not guaranteed to be the same\n",
    "# as the order of the agents in the orchestration.\n",
    "value = await orchestration_result.get(timeout=20)\n",
    "\n",
    "for item in value:\n",
    "    print(f\"# {item.name}: {item.content}\\n\\n***********************\\n\")\n",
    "\n",
    "# 5. Stop the runtime after the invocation is complete\n",
    "await runtime.stop_when_idle()"
   ]
  }
 ],
 "metadata": {
  "kernelspec": {
   "display_name": "venvsm1",
   "language": "python",
   "name": "python3"
  },
  "language_info": {
   "codemirror_mode": {
    "name": "ipython",
    "version": 3
   },
   "file_extension": ".py",
   "mimetype": "text/x-python",
   "name": "python",
   "nbconvert_exporter": "python",
   "pygments_lexer": "ipython3",
   "version": "3.12.4"
  }
 },
 "nbformat": 4,
 "nbformat_minor": 5
}
