{
 "cells": [
  {
   "cell_type": "markdown",
   "id": "7aa16616",
   "metadata": {},
   "source": [
    "# Group Chat Orchestration - Round Robin Group Chat Manager\n",
    "\n",
    "Group chat orchestration models a collaborative conversation among agents, optionally including a human participant. A group chat manager coordinates the flow, determining which agent should respond next and when to request human input. This pattern is powerful for simulating meetings, debates, or collaborative problem-solving sessions.\n",
    "\n",
    "* [Agent-orchestration Guide - Group Chat Orchestration](https://learn.microsoft.com/en-us/semantic-kernel/frameworks/agent/agent-orchestration/group-chat?pivots=programming-language-python)\n",
    "* [Original Code](https://github.com/microsoft/semantic-kernel/blob/main/python/samples/getting_started_with_agents/multi_agent_orchestration/step3_group_chat.py)"
   ]
  },
  {
   "cell_type": "markdown",
   "id": "28efaccd",
   "metadata": {},
   "source": [
    "## Sample Description \n",
    "\n",
    "The following sample demonstrates how to create a group chat orchestration with a default\n",
    "round robin manager for controlling the flow of conversation in a round robin fashion.\n",
    "\n",
    "Think of the group chat manager as a state machine, with the following possible states:\n",
    "- Request for user message\n",
    "- Termination, after which the manager will try to filter a result from the conversation\n",
    "- Continuation, at which the manager will select the next agent to speak\n",
    "\n",
    "This sample demonstrates the basic steps of creating and starting a runtime, creating\n",
    "a group chat orchestration with a group chat manager, invoking the orchestration,\n",
    "and finally waiting for the results.\n",
    "\n",
    "There are two agents in this orchestration: a writer and a reviewer. They work iteratively\n",
    "to refine a slogan for a new electric SUV."
   ]
  },
  {
   "cell_type": "code",
   "execution_count": 22,
   "id": "7d5a3ac0",
   "metadata": {},
   "outputs": [],
   "source": [
    "# Libraries\n",
    "from dotenv import load_dotenv\n",
    "import os\n",
    "import asyncio\n",
    "\n",
    "from semantic_kernel.agents import Agent, ChatCompletionAgent, GroupChatOrchestration, RoundRobinGroupChatManager\n",
    "from semantic_kernel.agents.runtime import InProcessRuntime\n",
    "from semantic_kernel.connectors.ai.open_ai import AzureChatCompletion\n",
    "from semantic_kernel.contents import ChatMessageContent"
   ]
  },
  {
   "cell_type": "code",
   "execution_count": 23,
   "id": "ebda4a52",
   "metadata": {},
   "outputs": [],
   "source": [
    "#load variables\n",
    "load_dotenv()\n",
    "\n",
    "# Variables - Azure Services\n",
    "azopenai_ep=os.environ[\"AZURE_OPENAI_ACCOUNT\"]\n",
    "azopenai_key=os.environ[\"AZURE_OPENAI_KEY\"]\n",
    "azopenai_model=os.environ[\"AZURE_OPENAI_MODEL\"]"
   ]
  },
  {
   "cell_type": "markdown",
   "id": "3c4e98c5",
   "metadata": {},
   "source": [
    "### Create an instance of AzureChatCompletion with the provided configuration"
   ]
  },
  {
   "cell_type": "code",
   "execution_count": 24,
   "id": "3afa7a0b",
   "metadata": {},
   "outputs": [],
   "source": [
    "az_chat_completion = AzureChatCompletion(\n",
    "    deployment_name=azopenai_model,\n",
    "    api_key=azopenai_key,\n",
    "    endpoint=azopenai_ep \n",
    ")"
   ]
  },
  {
   "cell_type": "markdown",
   "id": "58eb38f7",
   "metadata": {},
   "source": [
    "### Create the agents"
   ]
  },
  {
   "cell_type": "code",
   "execution_count": 25,
   "id": "aa10f0af",
   "metadata": {},
   "outputs": [],
   "source": [
    "def get_agents() -> list[Agent]:\n",
    "    \"\"\"Return a list of agents that will participate in the group style discussion.\n",
    "\n",
    "    Feel free to add or remove agents.\n",
    "    \"\"\"\n",
    "    writer = ChatCompletionAgent(\n",
    "        name=\"Writer\",\n",
    "        description=\"A content writer.\",\n",
    "        instructions=(\n",
    "            \"You are an excellent content writer. You create new content and edit contents based on the feedback.\"\n",
    "        ),\n",
    "        service=az_chat_completion\n",
    "    )\n",
    "    reviewer = ChatCompletionAgent(\n",
    "        name=\"Reviewer\",\n",
    "        description=\"A content reviewer.\",\n",
    "        instructions=(\n",
    "            \"You are an excellent content reviewer. You review the content and provide feedback to the writer.\"\n",
    "        ),\n",
    "        service=az_chat_completion\n",
    "    )\n",
    "\n",
    "    # The order of the agents in the list will be the order in which they will be picked by the round robin manager\n",
    "    return [writer, reviewer]"
   ]
  },
  {
   "cell_type": "markdown",
   "id": "25d0e961",
   "metadata": {},
   "source": [
    "### Optional: Observe Agent Responses\n",
    "\n",
    "You can define a callback to observe and print the output from each agent as the sequence progresses."
   ]
  },
  {
   "cell_type": "code",
   "execution_count": 26,
   "id": "5afb2fad",
   "metadata": {},
   "outputs": [],
   "source": [
    "def agent_response_callback(message: ChatMessageContent) -> None:\n",
    "    \"\"\"Observer function to print the messages from the agents.\"\"\"\n",
    "    print(f\"**{message.name}**\\n{  message.content}\\n\\n\")"
   ]
  },
  {
   "cell_type": "markdown",
   "id": "8df35b50",
   "metadata": {},
   "source": [
    "### Set Up the Group Chat Orchestration\n",
    "\n",
    "Create a GroupChatOrchestration object, passing in the agents, a group chat manager (in this case a RoundRobinGroupChatManager), and the response callback. The manager controls the flow—here, it alternates turns in a round-robin fashion for a set number of rounds."
   ]
  },
  {
   "cell_type": "code",
   "execution_count": 27,
   "id": "8871addb",
   "metadata": {},
   "outputs": [],
   "source": [
    "# 1. Create a group chat orchestration with a round robin manager\n",
    "agents = get_agents()\n",
    "group_chat_orchestration = GroupChatOrchestration(\n",
    "    members=agents,\n",
    "    # max_rounds is odd, so that the writer gets the last round\n",
    "    manager=RoundRobinGroupChatManager(max_rounds=5),\n",
    "    agent_response_callback=agent_response_callback,\n",
    ")"
   ]
  },
  {
   "cell_type": "markdown",
   "id": "dcb965df",
   "metadata": {},
   "source": [
    "### Start the Runtime\n",
    "\n",
    "Start the runtime to manage agent execution."
   ]
  },
  {
   "cell_type": "code",
   "execution_count": 28,
   "id": "55ff16ef",
   "metadata": {},
   "outputs": [
    {
     "name": "stdout",
     "output_type": "stream",
     "text": [
      "**Writer**\n",
      "Certainly! Based on the inspirations provided, here’s a company name suggestion:\n",
      "\n",
      "**PradoTech Real Solutions**\n",
      "\n",
      "This name combines \"Prado\" and \"Technology\" to emphasize innovation, while \"Real Solutions\" ties in with real estate, offering a sense of practicality, trust, and commitment to quality. It captures the essence of modern innovation applied to the real estate industry, with a subtle nod to Costa Rica's forward-thinking and reliable spirit. \n",
      "\n",
      "Would you like any additional iterations or refinements?\n",
      "\n",
      "\n",
      "**Reviewer**\n",
      "Thank you for the submission! Here's my review of the proposed company name:\n",
      "\n",
      "**PradoTech Real Solutions**\n",
      "\n",
      "**Strengths:**\n",
      "1. **Relevance:** The name effectively incorporates \"Prado\" as requested, and connects it to \"Technology\" to emphasize the innovation aspect. \n",
      "2. **Clarity:** It clearly signals to potential customers that the company is involved with technology and solutions, which is fitting for the real estate industry.\n",
      "3. **Trust Factor:** The phrase \"Real Solutions\" gives off a credible and problem-solving tone, which aligns well with trustworthiness.\n",
      "\n",
      "**Points to Improve:**\n",
      "1. **Over-length:** The full name may feel slightly long and wordy. Conciseness can make a name catchier and easier to remember.\n",
      "2. **Direct Real Estate Tie:** While \"Real Solutions\" hints at real estate, it isn’t immediately explicit. Some refinement could help enhance the association with real estate.\n",
      "3. **Costa Rica Connection:** The name doesn’t yet give a direct nod to Costa Rica. Adding a subtle geographical or cultural touch might amplify its uniqueness.\n",
      "\n",
      "**Suggestions for Refinement:**\n",
      "1. Shorten the name to something like **PradoTech Realty** or **PradoTech Innovations** for simplicity and memorability.\n",
      "2. Incorporate geographic or cultural relevance, such as **PradoTech Costa Realty** or **Prado Costa Innovations**, to highlight the Costa Rican identity you value.\n",
      "3. Consider enhancing the real estate focus with terms like \"Realty,\" \"Estates,\" or \"Properties\" in place of \"Real Solutions.\"\n",
      "\n",
      "**Overall Assessment:**\n",
      "The name is a solid starting point but may benefit from minor tweaks to make it punchier and more reflective of the brand's unique themes. Let me know if you'd like further brainstorming or suggestions!\n",
      "\n",
      "\n",
      "**Writer**\n",
      "Thank you for the feedback! Based on the review and suggested improvements, here are some refined company name ideas that aim to balance clarity, brevity, and relevance to the themes of technology, real estate, innovation, Costa Rica, and trust:\n",
      "\n",
      "1. **PradoTech Realty**  \n",
      "   - Simplified, professional, and specific to real estate with a technology-forward touch.\n",
      "\n",
      "2. **Prado Costa Realty**  \n",
      "   - Adds a nod to Costa Rica while maintaining ties to real estate.  \n",
      "\n",
      "3. **Prado Innovations Realty**  \n",
      "   - Highlights both innovation and real estate, staying true to the original themes.\n",
      "\n",
      "4. **Prado Estates & Tech**  \n",
      "   - A clean and modern take, blending real estate explicitly with technology.\n",
      "\n",
      "5. **PradoTrust Pro Realty**  \n",
      "   - Infuses “trust” into the name for a strong, reliable brand impression.\n",
      "\n",
      "6. **Prado Costa Estates**  \n",
      "   - Specifically ties the brand to Costa Rica and the real estate realm.\n",
      "\n",
      "7. **PradoSmart Properties**  \n",
      "   - Suggests technologically advanced real estate solutions in a catchy way.\n",
      "\n",
      "Do any of these resonate with you, or would you like me to explore further directions? I'm happy to refine further!\n",
      "\n",
      "\n",
      "**Reviewer**\n",
      "Thank you for the updated name suggestions! Here's my detailed review of each refined option:\n",
      "\n",
      "### 1. **PradoTech Realty**  \n",
      "**Strengths:**  \n",
      "- Crisp and professional, this name directly communicates the company's focus on technology and real estate.  \n",
      "- Easier to remember due to its simplicity.  \n",
      "\n",
      "**Areas for Improvement:**  \n",
      "- Could feel a little generic. Adding a unique element might help it stand out in a competitive market.  \n",
      "\n",
      "### 2. **Prado Costa Realty**  \n",
      "**Strengths:**  \n",
      "- Successfully ties the company to its Costa Rican roots, creating a geographic identity that adds authenticity.  \n",
      "- Clear association with real estate.  \n",
      "\n",
      "**Areas for Improvement:**  \n",
      "- The name leans more heavily on location and real estate, with less emphasis on technology and innovation.  \n",
      "\n",
      "### 3. **Prado Innovations Realty**  \n",
      "**Strengths:**  \n",
      "- Highlights innovation, which is key to the brand’s identity.  \n",
      "- Still relevant to real estate with the term \"Realty.\"  \n",
      "\n",
      "**Areas for Improvement:**  \n",
      "- The length may slightly detract from its memorability or impact.  \n",
      "\n",
      "### 4. **Prado Estates & Tech**  \n",
      "**Strengths:**  \n",
      "- A creative blend of real estate and technology, which are central to the company’s mission.  \n",
      "- Modern and relevant for a tech-forward business.  \n",
      "\n",
      "**Areas for Improvement:**  \n",
      "- Might sound more like a tagline than a company name. Could benefit from a sleeker format.  \n",
      "\n",
      "### 5. **PradoTrust Pro Realty**  \n",
      "**Strengths:**  \n",
      "- Injects the value of “trust” directly into the name, building confidence in the brand.  \n",
      "- Professional tone makes it suitable for the real estate industry.  \n",
      "\n",
      "**Areas for Improvement:**  \n",
      "- Could feel slightly clunky with \"Pro\" inserted. Simplifying it would improve fluidity and readability.  \n",
      "\n",
      "### 6. **Prado Costa Estates**  \n",
      "**Strengths:**  \n",
      "- Elegant and ties in both geographic relevance (Costa Rica) and real estate (“Estates”).  \n",
      "- Has a polished, high-end appeal that connotes luxury real estate.  \n",
      "\n",
      "**Areas for Improvement:**  \n",
      "- Does not explicitly highlight the technology/innovation aspect, which may dilute the brand’s tech-forward positioning.  \n",
      "\n",
      "### 7. **PradoSmart Properties**  \n",
      "**Strengths:**  \n",
      "- The word “Smart” connects well with technology and innovation.  \n",
      "- Clearly directed at real estate, and the name feels modern and creative.  \n",
      "\n",
      "**Areas for Improvement:**  \n",
      "- Could risk sounding trendy rather than timeless.  \n",
      "\n",
      "---\n",
      "\n",
      "### **Overall Feedback and Recommendation:**  \n",
      "The suggested names have improved greatly in terms of clarity, alignment with the brand themes, and geographic relevance. Among the options, **PradoSmart Properties** and **Prado Costa Realty** stand out for being concise, relevant, and appealing to the themes you provided.  \n",
      "\n",
      "**Suggestions for Additional Refinement:**  \n",
      "1. If you want to emphasize both innovation and location, consider a blend like **Prado Costa Tech** or **PradoSmart Costa Estates**.  \n",
      "2. If simplicity and professionalism are priorities, **PradoTech Realty** remains a strong option.  \n",
      "\n",
      "Feel free to share your thoughts—I'd be happy to review further iterations!\n",
      "\n",
      "\n",
      "**Writer**\n",
      "Thank you for the review! Incorporating your feedback, I’ll refine the names further to balance clarity, innovation, relevance to real estate, and a nod to Costa Rica. Here’s a fresh, polished batch of company name suggestions:\n",
      "\n",
      "1. **PradoSmart Realty**  \n",
      "   - A modern, tech-inspired name that remains concise and easy to remember, blending innovation with real estate.\n",
      "\n",
      "2. **Prado Costa Innovations**  \n",
      "   - Highlights Costa Rica’s identity while emphasizing the company’s innovative, tech-driven focus.\n",
      "\n",
      "3. **PradoTech Properties**  \n",
      "   - A straightforward fusion that combines modern technology with real estate, ensuring clarity of purpose.\n",
      "\n",
      "4. **PradoTrust Realty**  \n",
      "   - Puts trust front and center, creating a sense of reliability while firmly connecting with the real estate sphere.\n",
      "\n",
      "5. **PradoVista Realty**  \n",
      "   - \"Vista\" evokes images of scenic beauty and forward-thinking, nodding to Costa Rica while suggesting vision and innovation.\n",
      "\n",
      "6. **PradoEstate Tech**  \n",
      "   - Simplified and focused, this name merges real estate and technology seamlessly.\n",
      "\n",
      "7. **SmartPrado Estates**  \n",
      "   - A tech-savvy twist on traditional real estate branding, keeping \"Prado\" at the core.\n",
      "\n",
      "8. **Prado Horizon Realty**  \n",
      "   - Elevates the brand with an inspirational and innovative tone, suggesting growth, vision, and future possibilities.\n",
      "\n",
      "I aimed to address the priorities of simplicity, uniqueness, and thematic alignment while keeping the names versatile and professional. Do any of these resonate with your vision, or should I explore additional angles? Let me know, and I’ll refine further!\n",
      "\n",
      "\n"
     ]
    }
   ],
   "source": [
    "# 2. Create a runtime and start it\n",
    "runtime = InProcessRuntime()\n",
    "runtime.start()"
   ]
  },
  {
   "cell_type": "markdown",
   "id": "0c318b0e",
   "metadata": {},
   "source": [
    "### Invoke the Orchestration\n",
    "\n",
    "Invoke the orchestration with your initial task (e.g., \"Create a slogan for a new electric SUV...\"). The agents will take turns responding, refining the result."
   ]
  },
  {
   "cell_type": "code",
   "execution_count": 29,
   "id": "3934fa1b",
   "metadata": {},
   "outputs": [],
   "source": [
    "orchestration_result = await group_chat_orchestration.invoke(    \n",
    "    task=\"Create a Company Name using as inspirations the following words: 'Prado', 'Technology', 'Innovation', 'Real States', 'Costa Rica', 'Trust'. \\\n",
    "        Make sure the name contains the word 'Prado' and is related to technology and real states.\",\n",
    "    runtime=runtime,\n",
    ")\n"
   ]
  },
  {
   "cell_type": "markdown",
   "id": "de68784d",
   "metadata": {},
   "source": [
    "### Collect Results and Stop the Runtime"
   ]
  },
  {
   "cell_type": "code",
   "execution_count": 30,
   "id": "1356d73a",
   "metadata": {},
   "outputs": [
    {
     "name": "stdout",
     "output_type": "stream",
     "text": [
      "***** Result *****\n",
      "Thank you for the review! Incorporating your feedback, I’ll refine the names further to balance clarity, innovation, relevance to real estate, and a nod to Costa Rica. Here’s a fresh, polished batch of company name suggestions:\n",
      "\n",
      "1. **PradoSmart Realty**  \n",
      "   - A modern, tech-inspired name that remains concise and easy to remember, blending innovation with real estate.\n",
      "\n",
      "2. **Prado Costa Innovations**  \n",
      "   - Highlights Costa Rica’s identity while emphasizing the company’s innovative, tech-driven focus.\n",
      "\n",
      "3. **PradoTech Properties**  \n",
      "   - A straightforward fusion that combines modern technology with real estate, ensuring clarity of purpose.\n",
      "\n",
      "4. **PradoTrust Realty**  \n",
      "   - Puts trust front and center, creating a sense of reliability while firmly connecting with the real estate sphere.\n",
      "\n",
      "5. **PradoVista Realty**  \n",
      "   - \"Vista\" evokes images of scenic beauty and forward-thinking, nodding to Costa Rica while suggesting vision and innovation.\n",
      "\n",
      "6. **PradoEstate Tech**  \n",
      "   - Simplified and focused, this name merges real estate and technology seamlessly.\n",
      "\n",
      "7. **SmartPrado Estates**  \n",
      "   - A tech-savvy twist on traditional real estate branding, keeping \"Prado\" at the core.\n",
      "\n",
      "8. **Prado Horizon Realty**  \n",
      "   - Elevates the brand with an inspirational and innovative tone, suggesting growth, vision, and future possibilities.\n",
      "\n",
      "I aimed to address the priorities of simplicity, uniqueness, and thematic alignment while keeping the names versatile and professional. Do any of these resonate with your vision, or should I explore additional angles? Let me know, and I’ll refine further!\n"
     ]
    }
   ],
   "source": [
    "# 4. Wait for the results\n",
    "value = await orchestration_result.get()\n",
    "print(f\"***** Result *****\\n{value}\")\n",
    "\n",
    "# 5. Stop the runtime after the invocation is complete\n",
    "await runtime.stop_when_idle()"
   ]
  }
 ],
 "metadata": {
  "kernelspec": {
   "display_name": "venvsm1",
   "language": "python",
   "name": "python3"
  },
  "language_info": {
   "codemirror_mode": {
    "name": "ipython",
    "version": 3
   },
   "file_extension": ".py",
   "mimetype": "text/x-python",
   "name": "python",
   "nbconvert_exporter": "python",
   "pygments_lexer": "ipython3",
   "version": "3.12.4"
  }
 },
 "nbformat": 4,
 "nbformat_minor": 5
}
