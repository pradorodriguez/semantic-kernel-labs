{
 "cells": [
  {
   "cell_type": "markdown",
   "id": "9bb741f7",
   "metadata": {},
   "source": [
    "# Exploring the Semantic Kernel ChatCompletionAgent\n",
    "\n",
    "* [QuickStart](https://learn.microsoft.com/en-us/semantic-kernel/frameworks/agent/chat-completion-agent?pivots=programming-language-python)\n",
    "* [ChatCompletionAgent Class](https://learn.microsoft.com/en-us/python/api/semantic-kernel/semantic_kernel.agents.chat_completion.chat_completion_agent.chatcompletionagent?view=semantic-kernel-python)"
   ]
  },
  {
   "cell_type": "code",
   "execution_count": null,
   "id": "391fe81a",
   "metadata": {},
   "outputs": [],
   "source": [
    "# ! pip install semantic-kernel"
   ]
  },
  {
   "cell_type": "code",
   "execution_count": null,
   "id": "1df6a285",
   "metadata": {},
   "outputs": [],
   "source": [
    "# Libraries\n",
    "import os\n",
    "from dotenv import load_dotenv\n",
    "\n",
    "from semantic_kernel.agents import ChatCompletionAgent\n",
    "from semantic_kernel.connectors.ai.open_ai import AzureChatCompletion\n"
   ]
  },
  {
   "cell_type": "code",
   "execution_count": null,
   "id": "723165ef",
   "metadata": {},
   "outputs": [],
   "source": [
    "# Load environment variables from .env file\n",
    "load_dotenv()\n",
    "\n",
    "# Variables - Azure Services\n",
    "azopenai_ep=os.environ[\"AZURE_OPENAI_ACCOUNT\"]\n",
    "azopenai_key=os.environ[\"AZURE_OPENAI_KEY\"]\n",
    "azopenai_model=os.environ[\"AZURE_OPENAI_MODEL\"]"
   ]
  },
  {
   "cell_type": "markdown",
   "id": "41237f0c",
   "metadata": {},
   "source": [
    "## Creating a ChatCompletionAgent"
   ]
  },
  {
   "cell_type": "code",
   "execution_count": null,
   "id": "bd5ee2ce",
   "metadata": {},
   "outputs": [],
   "source": [
    "# Add Azure OpenAI chat completion\n",
    "chat_completion = AzureChatCompletion(\n",
    "   deployment_name=azopenai_model,\n",
    "   api_key=azopenai_key,\n",
    "   endpoint=azopenai_ep\n",
    ")\n",
    "\n",
    "# Create the agent by directly providing the chat completion service\n",
    "agent = ChatCompletionAgent(\n",
    "    service=chat_completion,  # your chat completion service instance\n",
    "    name=\"<agent name>\",\n",
    "    instructions=\"<agent instructions>\",\n",
    ")"
   ]
  }
 ],
 "metadata": {
  "kernelspec": {
   "display_name": ".venv",
   "language": "python",
   "name": "python3"
  },
  "language_info": {
   "name": "python",
   "version": "3.10.11"
  }
 },
 "nbformat": 4,
 "nbformat_minor": 5
}
