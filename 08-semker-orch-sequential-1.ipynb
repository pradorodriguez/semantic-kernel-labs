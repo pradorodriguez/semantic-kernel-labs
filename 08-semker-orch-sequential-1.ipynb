{
 "cells": [
  {
   "cell_type": "markdown",
   "id": "1b1d1499",
   "metadata": {},
   "source": [
    "# Sequential Orchestration\n",
    "\n",
    "In the sequential pattern, agents are organized in a pipeline. Each agent processes the task in turn, passing its output to the next agent in the sequence. This is ideal for workflows where each step builds upon the previous one, such as document review, data processing pipelines, or multi-stage reasoning.\n",
    "\n",
    "* [Agent-orchestration Guide - Sequential](https://learn.microsoft.com/en-us/semantic-kernel/frameworks/agent/agent-orchestration/sequential?pivots=programming-language-python)\n",
    "* [Original Code](https://github.com/microsoft/semantic-kernel/blob/main/python/samples/getting_started_with_agents/multi_agent_orchestration/step2_sequential.py)"
   ]
  },
  {
   "cell_type": "markdown",
   "id": "bb87b2ae",
   "metadata": {},
   "source": [
    "The following sample demonstrates how to create a sequential orchestration for executing multiple agents in sequence, i.e. the output of one agent is the input to the next agent.\n",
    "\n",
    "This sample demonstrates the basic steps of creating and starting a runtime, creating a sequential orchestration, invoking the orchestration, and finally waiting for the results."
   ]
  },
  {
   "cell_type": "code",
   "execution_count": 1,
   "id": "ef02dec3",
   "metadata": {},
   "outputs": [],
   "source": [
    "# Libraries\n",
    "from dotenv import load_dotenv\n",
    "import os\n",
    "import asyncio\n",
    "\n",
    "from semantic_kernel.agents import Agent, ChatCompletionAgent, SequentialOrchestration\n",
    "from semantic_kernel.agents.runtime import InProcessRuntime\n",
    "from semantic_kernel.connectors.ai.open_ai import AzureChatCompletion\n",
    "from semantic_kernel.contents import ChatMessageContent"
   ]
  },
  {
   "cell_type": "code",
   "execution_count": 3,
   "id": "a3d1afd8",
   "metadata": {},
   "outputs": [],
   "source": [
    "#load variables\n",
    "load_dotenv()\n",
    "\n",
    "# Variables - Azure Services\n",
    "azopenai_ep=os.environ[\"AZURE_OPENAI_ACCOUNT\"]\n",
    "azopenai_key=os.environ[\"AZURE_OPENAI_KEY\"]\n",
    "azopenai_model=os.environ[\"AZURE_OPENAI_MODEL\"]\n"
   ]
  },
  {
   "cell_type": "code",
   "execution_count": 4,
   "id": "d0050911",
   "metadata": {},
   "outputs": [],
   "source": [
    "# Azure Chat Completion Client\n",
    "az_chat_completion = AzureChatCompletion(\n",
    "    deployment_name=azopenai_model,\n",
    "    api_key=azopenai_key,\n",
    "    endpoint=azopenai_ep \n",
    ")"
   ]
  },
  {
   "cell_type": "markdown",
   "id": "3a232705",
   "metadata": {},
   "source": [
    "### Create the agents"
   ]
  },
  {
   "cell_type": "code",
   "execution_count": 5,
   "id": "cabbf17e",
   "metadata": {},
   "outputs": [],
   "source": [
    "def get_agents() -> list[Agent]:\n",
    "    \"\"\"Return a list of agents that will participate in the sequential orchestration.\n",
    "\n",
    "    Feel free to add or remove agents.\n",
    "    \"\"\"\n",
    "    concept_extractor_agent = ChatCompletionAgent(\n",
    "        name=\"ConceptExtractorAgent\",\n",
    "        instructions=(\n",
    "            \"You are a marketing analyst. Given a product description, identify:\\n\"\n",
    "            \"- Key features\\n\"\n",
    "            \"- Target audience\\n\"\n",
    "            \"- Unique selling points\\n\\n\"\n",
    "        ),\n",
    "        service=AzureChatCompletion(),\n",
    "    )\n",
    "    writer_agent = ChatCompletionAgent(\n",
    "        name=\"WriterAgent\",\n",
    "        instructions=(\n",
    "            \"You are a marketing copywriter. Given a block of text describing features, audience, and USPs, \"\n",
    "            \"compose a compelling marketing copy (like a newsletter section) that highlights these points. \"\n",
    "            \"Output should be short (around 150 words), output just the copy as a single text block.\"\n",
    "        ),\n",
    "        service=AzureChatCompletion(),\n",
    "    )\n",
    "    format_proof_agent = ChatCompletionAgent(\n",
    "        name=\"FormatProofAgent\",\n",
    "        instructions=(\n",
    "            \"You are an editor. Given the draft copy, correct grammar, improve clarity, ensure consistent tone, \"\n",
    "            \"give format and make it polished. Output the final improved copy as a single text block.\"\n",
    "        ),\n",
    "        service=AzureChatCompletion(),\n",
    "    )\n",
    "\n",
    "    # The order of the agents in the list will be the order in which they are executed\n",
    "    return [concept_extractor_agent, writer_agent, format_proof_agent]\n"
   ]
  },
  {
   "cell_type": "markdown",
   "id": "a7d77c71",
   "metadata": {},
   "source": [
    "### Optional: Observe Agent Responses\n",
    "\n",
    "You can define a callback to observe and print the output from each agent as the sequence progresses."
   ]
  },
  {
   "cell_type": "code",
   "execution_count": 6,
   "id": "8fcabeb6",
   "metadata": {},
   "outputs": [],
   "source": [
    "def agent_response_callback(message: ChatMessageContent) -> None:\n",
    "    \"\"\"Observer function to print the messages from the agents.\"\"\"\n",
    "    print(f\"# {message.name}\\n{message.content}\")"
   ]
  },
  {
   "cell_type": "markdown",
   "id": "e22ed392",
   "metadata": {},
   "source": [
    "### Create main logic"
   ]
  },
  {
   "cell_type": "code",
   "execution_count": 7,
   "id": "7b1aec11",
   "metadata": {},
   "outputs": [
    {
     "name": "stdout",
     "output_type": "stream",
     "text": [
      "# ConceptExtractorAgent\n",
      "- **Key Features:**\n",
      "  - Eco-friendly and reusable\n",
      "  - Made from durable stainless steel\n",
      "  - Keeps drinks cold for up to 24 hours\n",
      "  - Insulated design\n",
      "\n",
      "- **Target Audience:**\n",
      "  - Environmentally conscious consumers\n",
      "  - Outdoor enthusiasts (e.g., hikers, campers)\n",
      "  - Fitness enthusiasts and gym-goers\n",
      "  - Office workers or students who need cold beverages throughout the day\n",
      "\n",
      "- **Unique Selling Points:**\n",
      "  - Sustainable alternative to single-use plastic bottles\n",
      "  - Long-lasting cold beverage retention (24 hours)\n",
      "  - Built with high-quality, durable stainless steel\n",
      "  - Appeals to eco-conscious buyers looking to reduce their environmental footprint\n",
      "# WriterAgent\n",
      "Say goodbye to single-use plastics and hello to the ultimate hydration hero! Our eco-friendly stainless steel bottles are designed with your lifestyle—and the planet—in mind. Whether you're trekking through the wilderness, hitting the gym, or powering through a workday, this insulated bottle keeps your drinks icy cold for up to 24 hours. Crafted from durable materials, it's built to withstand any adventure while reducing your environmental footprint. Join the movement towards sustainability—ditch disposable and stay cool, one sip at a time.\n",
      "# FormatProofAgent\n",
      "Say goodbye to single-use plastics and embrace the ultimate hydration solution! Our eco-friendly stainless steel bottles are thoughtfully designed to fit seamlessly into your lifestyle while protecting the planet. Whether you're exploring the great outdoors, powering through a workout, or staying focused at the office, this insulated bottle ensures your drinks remain refreshingly cold for up to 24 hours. Built with durability and sustainability in mind, it’s perfect for any adventure while helping reduce waste. Make the switch today—choose reusable and stay hydrated, one sip at a time!\n"
     ]
    }
   ],
   "source": [
    "# 1. Create a sequential orchestration with multiple agents and an agent\n",
    "#    response callback to observe the output from each agent.\n",
    "agents = get_agents()\n",
    "sequential_orchestration = SequentialOrchestration(\n",
    "    members=agents,\n",
    "    agent_response_callback=agent_response_callback,\n",
    ")\n",
    "\n",
    "# 2. Create a runtime and start it\n",
    "runtime = InProcessRuntime()\n",
    "runtime.start()\n",
    "\n",
    "# 3. Invoke the orchestration with a task and the runtime\n",
    "orchestration_result = await sequential_orchestration.invoke(\n",
    "    task=\"An eco-friendly stainless steel water bottle that keeps drinks cold for 24 hours\",\n",
    "    runtime=runtime,\n",
    ")"
   ]
  },
  {
   "cell_type": "code",
   "execution_count": 8,
   "id": "9b46f537",
   "metadata": {},
   "outputs": [
    {
     "name": "stdout",
     "output_type": "stream",
     "text": [
      "***** Final Result *****\n",
      "Say goodbye to single-use plastics and embrace the ultimate hydration solution! Our eco-friendly stainless steel bottles are thoughtfully designed to fit seamlessly into your lifestyle while protecting the planet. Whether you're exploring the great outdoors, powering through a workout, or staying focused at the office, this insulated bottle ensures your drinks remain refreshingly cold for up to 24 hours. Built with durability and sustainability in mind, it’s perfect for any adventure while helping reduce waste. Make the switch today—choose reusable and stay hydrated, one sip at a time!\n",
      "\n"
     ]
    }
   ],
   "source": [
    "# 4. Wait for the results\n",
    "value = await orchestration_result.get(timeout=20)\n",
    "print(f\"***** Final Result *****\\n{value}\\n\")\n",
    "\n",
    "# 5. Stop the runtime when idle\n",
    "await runtime.stop_when_idle()"
   ]
  }
 ],
 "metadata": {
  "kernelspec": {
   "display_name": "venvsm1",
   "language": "python",
   "name": "python3"
  },
  "language_info": {
   "codemirror_mode": {
    "name": "ipython",
    "version": 3
   },
   "file_extension": ".py",
   "mimetype": "text/x-python",
   "name": "python",
   "nbconvert_exporter": "python",
   "pygments_lexer": "ipython3",
   "version": "3.12.4"
  }
 },
 "nbformat": 4,
 "nbformat_minor": 5
}
