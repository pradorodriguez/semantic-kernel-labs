{
 "cells": [
  {
   "cell_type": "markdown",
   "id": "caac6f61",
   "metadata": {},
   "source": [
    "# Handoff Orchestration\n",
    "\n",
    "Handoff orchestration allows agents to transfer control to one another based on the context or user request. Each agent can “handoff” the conversation to another agent with the appropriate expertise, ensuring that the right agent handles each part of the task. This is particularly useful in customer support, expert systems, or any scenario requiring dynamic delegation.\n",
    "\n",
    "* [Handoff Orchestration](https://learn.microsoft.com/en-us/semantic-kernel/frameworks/agent/agent-orchestration/handoff?pivots=programming-language-python)\n",
    "* [Original Code](https://github.com/microsoft/semantic-kernel/blob/main/python/samples/getting_started_with_agents/multi_agent_orchestration/step4_handoff.py)"
   ]
  },
  {
   "cell_type": "markdown",
   "id": "b645df0e",
   "metadata": {},
   "source": [
    "## Sample Description \n",
    "\n",
    "The following sample demonstrates how to create a handoff orchestration that represents a customer support triage system. The orchestration consists of 4 agents, each specialized in a different area of customer support: triage, refunds, order status, and order returns.\n",
    "\n",
    "Depending on the customer's request, agents can hand off the conversation to the appropriate agent.\n",
    "\n",
    "Human in the loop is achieved via a callback function similar to the one used in group chat orchestration. Except that in the handoff orchestration, all agents have access to the human response function, whereas in the group chat orchestration, only the manager has access to the human response function.\n",
    "\n",
    "This sample demonstrates the basic steps of creating and starting a runtime, creating a handoff orchestration, invoking the orchestration, and finally waiting for the results."
   ]
  },
  {
   "cell_type": "code",
   "execution_count": 1,
   "id": "7c36b556",
   "metadata": {},
   "outputs": [],
   "source": [
    "# Libraries\n",
    "from dotenv import load_dotenv\n",
    "import os\n",
    "import asyncio\n",
    "\n",
    "from semantic_kernel.agents import Agent, ChatCompletionAgent, HandoffOrchestration, OrchestrationHandoffs\n",
    "from semantic_kernel.agents.runtime import InProcessRuntime\n",
    "from semantic_kernel.connectors.ai.open_ai import AzureChatCompletion\n",
    "from semantic_kernel.contents import AuthorRole, ChatMessageContent, FunctionCallContent, FunctionResultContent\n",
    "from semantic_kernel.functions import kernel_function"
   ]
  },
  {
   "cell_type": "code",
   "execution_count": 2,
   "id": "c903b8a4",
   "metadata": {},
   "outputs": [],
   "source": [
    "#load variables\n",
    "load_dotenv()\n",
    "\n",
    "# Variables - Azure Services\n",
    "azopenai_ep=os.environ[\"AZURE_OPENAI_ACCOUNT\"]\n",
    "azopenai_key=os.environ[\"AZURE_OPENAI_KEY\"]\n",
    "azopenai_model=os.environ[\"AZURE_OPENAI_MODEL\"]"
   ]
  },
  {
   "cell_type": "markdown",
   "id": "1938a325",
   "metadata": {},
   "source": [
    "### Create an instance of AzureChatCompletion with the provided configuration"
   ]
  },
  {
   "cell_type": "code",
   "execution_count": 3,
   "id": "2d1ea943",
   "metadata": {},
   "outputs": [],
   "source": [
    "az_chat_completion = AzureChatCompletion(\n",
    "    deployment_name=azopenai_model,\n",
    "    api_key=azopenai_key,\n",
    "    endpoint=azopenai_ep \n",
    ")"
   ]
  },
  {
   "cell_type": "markdown",
   "id": "ca31a92d",
   "metadata": {},
   "source": [
    "### Plugins\n",
    "\n",
    "We need to define the plugins that will be used in the agents. These plugins will contain the logic for handling specific tasks"
   ]
  },
  {
   "cell_type": "code",
   "execution_count": 4,
   "id": "ae221e67",
   "metadata": {},
   "outputs": [],
   "source": [
    "class OrderStatusPlugin:\n",
    "    @kernel_function\n",
    "    def check_order_status(self, order_id: str) -> str:\n",
    "        \"\"\"Check the status of an order.\"\"\"\n",
    "        # Simulate checking the order status\n",
    "        return f\"Order {order_id} is shipped and will arrive in 2-3 days.\"\n",
    "\n",
    "class OrderRefundPlugin:\n",
    "    @kernel_function\n",
    "    def process_refund(self, order_id: str, reason: str) -> str:\n",
    "        \"\"\"Process a refund for an order.\"\"\"\n",
    "        # Simulate processing a refund\n",
    "        print(f\"Processing refund for order {order_id} due to: {reason}\")\n",
    "        return f\"Refund for order {order_id} has been processed successfully.\"\n",
    "\n",
    "class OrderReturnPlugin:\n",
    "    @kernel_function\n",
    "    def process_return(self, order_id: str, reason: str) -> str:\n",
    "        \"\"\"Process a return for an order.\"\"\"\n",
    "        # Simulate processing a return\n",
    "        print(f\"Processing return for order {order_id} due to: {reason}\")\n",
    "        return f\"Return for order {order_id} has been processed successfully.\"\n"
   ]
  },
  {
   "cell_type": "markdown",
   "id": "b9cd7ab5",
   "metadata": {},
   "source": [
    "### Agents and HandOff\n",
    "\n",
    "* First Part: Define the agents that will use these plugins.\n",
    "* Second Part: Use OrchestrationHandoffs to specify which agent can hand off to which, and under what circumstances."
   ]
  },
  {
   "cell_type": "code",
   "execution_count": 5,
   "id": "4b6a15b0",
   "metadata": {},
   "outputs": [],
   "source": [
    "def get_agents() -> tuple[list[Agent], OrchestrationHandoffs]:\n",
    "    \"\"\"\n",
    "    Returns a tuple containing a list of customer support agents and their handoff relationships.\n",
    "\n",
    "    The agents include:\n",
    "    - TriageAgent: Handles general customer requests and triages issues.\n",
    "    - RefundAgent: Handles refund-related requests.\n",
    "    - OrderStatusAgent: Handles order status inquiries.\n",
    "    - OrderReturnAgent: Handles order return requests.\n",
    "\n",
    "    The OrchestrationHandoffs object defines which agents can hand off conversations to others based on the type of customer issue.\n",
    "    \"\"\"\n",
    "    \n",
    "    support_agent = ChatCompletionAgent(\n",
    "        name=\"TriageAgent\",\n",
    "        description=\"A customer support agent that triages issues.\",\n",
    "        instructions=\"Handle customer requests.\",\n",
    "        service=az_chat_completion,\n",
    "    )\n",
    "\n",
    "    refund_agent = ChatCompletionAgent(\n",
    "        name=\"RefundAgent\",\n",
    "        description=\"A customer support agent that handles refunds.\",\n",
    "        instructions=\"Handle refund requests.\",\n",
    "        service=az_chat_completion,\n",
    "        plugins=[OrderRefundPlugin()],\n",
    "    )\n",
    "\n",
    "    order_status_agent = ChatCompletionAgent(\n",
    "        name=\"OrderStatusAgent\",\n",
    "        description=\"A customer support agent that checks order status.\",\n",
    "        instructions=\"Handle order status requests.\",\n",
    "        service=az_chat_completion,\n",
    "        plugins=[OrderStatusPlugin()],\n",
    "    )\n",
    "\n",
    "    order_return_agent = ChatCompletionAgent(\n",
    "        name=\"OrderReturnAgent\",\n",
    "        description=\"A customer support agent that handles order returns.\",\n",
    "        instructions=\"Handle order return requests.\",\n",
    "        service=az_chat_completion,\n",
    "        plugins=[OrderReturnPlugin()],\n",
    "    )\n",
    "    \n",
    "    # Define the handoff relationships between agents\n",
    "    handoffs = (\n",
    "        OrchestrationHandoffs()\n",
    "        .add_many(\n",
    "            source_agent=support_agent.name,\n",
    "            target_agents={\n",
    "                refund_agent.name: \"Transfer to this agent if the issue is refund related\",\n",
    "                order_status_agent.name: \"Transfer to this agent if the issue is order status related\",\n",
    "                order_return_agent.name: \"Transfer to this agent if the issue is order return related\",\n",
    "            },\n",
    "        )\n",
    "        .add(\n",
    "            source_agent=refund_agent.name,\n",
    "            target_agent=support_agent.name,\n",
    "            description=\"Transfer to this agent if the issue is not refund related\",\n",
    "        )\n",
    "        .add(\n",
    "            source_agent=order_status_agent.name,\n",
    "            target_agent=support_agent.name,\n",
    "            description=\"Transfer to this agent if the issue is not order status related\",\n",
    "        )\n",
    "        .add(\n",
    "            source_agent=order_return_agent.name,\n",
    "            target_agent=support_agent.name,\n",
    "            description=\"Transfer to this agent if the issue is not order return related\",\n",
    "        )\n",
    "    )\n",
    "\n",
    "    return [support_agent, refund_agent, order_status_agent, order_return_agent], handoffs"
   ]
  },
  {
   "cell_type": "markdown",
   "id": "e40da8dd",
   "metadata": {},
   "source": [
    "### Observe Agent Responses\n",
    "\n",
    "You can define a callback to print each agent's message as the conversation progresses."
   ]
  },
  {
   "cell_type": "code",
   "execution_count": 6,
   "id": "8ae5bf52",
   "metadata": {},
   "outputs": [],
   "source": [
    "def agent_response_callback(message: ChatMessageContent) -> None:\n",
    "    \"\"\"Observer function to print the messages from the agents.\n",
    "\n",
    "    Please note that this function is called whenever the agent generates a response,\n",
    "    including the internal processing messages (such as tool calls) that are not visible\n",
    "    to other agents in the orchestration.\n",
    "    \"\"\"\n",
    "    print(f\"{message.name}: {message.content}\")\n",
    "    for item in message.items:\n",
    "        if isinstance(item, FunctionCallContent):\n",
    "            print(f\"Calling '{item.name}' with arguments '{item.arguments}'\")\n",
    "        if isinstance(item, FunctionResultContent):\n",
    "            print(f\"Result from '{item.name}' is '{item.result}'\")"
   ]
  },
  {
   "cell_type": "markdown",
   "id": "c32f3cb3",
   "metadata": {},
   "source": [
    "### Human in the Loop\n",
    "\n",
    "A key feature of handoff orchestration is the ability for a human to participate in the conversation. This is achieved by providing a human_response_function callback, which is called whenever an agent needs input from the user."
   ]
  },
  {
   "cell_type": "code",
   "execution_count": 7,
   "id": "8073c84b",
   "metadata": {},
   "outputs": [],
   "source": [
    "def human_response_function() -> ChatMessageContent:\n",
    "    \"\"\"Observer function to print the messages from the agents.\"\"\"\n",
    "    user_input = input(\"User: \")\n",
    "    return ChatMessageContent(role=AuthorRole.USER, content=user_input)"
   ]
  },
  {
   "cell_type": "markdown",
   "id": "82c8eec6",
   "metadata": {},
   "source": [
    "### Set Up the Handoff Orchestration\n",
    "\n",
    "Create a HandoffOrchestration object, passing in the agents, handoff relationships, and the callbacks."
   ]
  },
  {
   "cell_type": "code",
   "execution_count": 13,
   "id": "0b0e4aa6",
   "metadata": {},
   "outputs": [],
   "source": [
    "# 1. Create a handoff orchestration with multiple agents\n",
    "agents, handoffs = get_agents()\n",
    "handoff_orchestration = HandoffOrchestration(\n",
    "    members=agents,\n",
    "    handoffs=handoffs,\n",
    "    agent_response_callback=agent_response_callback,\n",
    "    human_response_function=human_response_function,\n",
    ")"
   ]
  },
  {
   "cell_type": "code",
   "execution_count": 14,
   "id": "43de87b7",
   "metadata": {},
   "outputs": [
    {
     "name": "stdout",
     "output_type": "stream",
     "text": [
      "TriageAgent: Hello! Thank you for reaching out to support. How can I assist you today?\n",
      "User: "
     ]
    }
   ],
   "source": [
    "# 2. Create a runtime and start it\n",
    "runtime = InProcessRuntime()\n",
    "runtime.start()"
   ]
  },
  {
   "cell_type": "code",
   "execution_count": 15,
   "id": "2d13c11e",
   "metadata": {},
   "outputs": [],
   "source": [
    "# 3. Invoke the orchestration with a task and the runtime\n",
    "orchestration_result = await handoff_orchestration.invoke(\n",
    "    task=\"Greet the customer who is reaching out for support.\",\n",
    "    runtime=runtime,\n",
    ")"
   ]
  },
  {
   "cell_type": "code",
   "execution_count": 11,
   "id": "cd9dde54",
   "metadata": {},
   "outputs": [
    {
     "name": "stdout",
     "output_type": "stream",
     "text": [
      "Task is completed with summary: Greeted the customer reaching out for support but no further requests were provided.\n"
     ]
    }
   ],
   "source": [
    "# 4. Wait for the results\n",
    "value = await orchestration_result.get()\n",
    "print(value)"
   ]
  },
  {
   "cell_type": "code",
   "execution_count": 12,
   "id": "d9bf5d1f",
   "metadata": {},
   "outputs": [],
   "source": [
    "# 5. Stop the runtime after the invocation is complete\n",
    "await runtime.stop_when_idle()"
   ]
  }
 ],
 "metadata": {
  "kernelspec": {
   "display_name": ".venv",
   "language": "python",
   "name": "python3"
  },
  "language_info": {
   "codemirror_mode": {
    "name": "ipython",
    "version": 3
   },
   "file_extension": ".py",
   "mimetype": "text/x-python",
   "name": "python",
   "nbconvert_exporter": "python",
   "pygments_lexer": "ipython3",
   "version": "3.10.11"
  }
 },
 "nbformat": 4,
 "nbformat_minor": 5
}
